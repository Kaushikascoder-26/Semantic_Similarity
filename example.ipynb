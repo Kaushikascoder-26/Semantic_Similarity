{
 "cells": [
  {
   "cell_type": "code",
   "execution_count": 2,
   "metadata": {},
   "outputs": [],
   "source": [
    "## importing essential packages\n",
    "import pandas as pd\n",
    "import numpy as np\n",
    "import seaborn as sns\n",
    "from sklearn.metrics.pairwise import cosine_similarity"
   ]
  },
  {
   "cell_type": "code",
   "execution_count": 3,
   "metadata": {},
   "outputs": [],
   "source": [
    "# Load the dataset\n",
    "df = pd.read_csv(\"Precily_Text_Similarity.csv\")"
   ]
  },
  {
   "cell_type": "code",
   "execution_count": 4,
   "metadata": {},
   "outputs": [
    {
     "data": {
      "text/html": [
       "<div>\n",
       "<style scoped>\n",
       "    .dataframe tbody tr th:only-of-type {\n",
       "        vertical-align: middle;\n",
       "    }\n",
       "\n",
       "    .dataframe tbody tr th {\n",
       "        vertical-align: top;\n",
       "    }\n",
       "\n",
       "    .dataframe thead th {\n",
       "        text-align: right;\n",
       "    }\n",
       "</style>\n",
       "<table border=\"1\" class=\"dataframe\">\n",
       "  <thead>\n",
       "    <tr style=\"text-align: right;\">\n",
       "      <th></th>\n",
       "      <th>text1</th>\n",
       "      <th>text2</th>\n",
       "    </tr>\n",
       "  </thead>\n",
       "  <tbody>\n",
       "    <tr>\n",
       "      <th>0</th>\n",
       "      <td>broadband challenges tv viewing the number of ...</td>\n",
       "      <td>gardener wins double in glasgow britain s jaso...</td>\n",
       "    </tr>\n",
       "    <tr>\n",
       "      <th>1</th>\n",
       "      <td>rap boss arrested over drug find rap mogul mar...</td>\n",
       "      <td>amnesty chief laments war failure the lack of ...</td>\n",
       "    </tr>\n",
       "    <tr>\n",
       "      <th>2</th>\n",
       "      <td>player burn-out worries robinson england coach...</td>\n",
       "      <td>hanks greeted at wintry premiere hollywood sta...</td>\n",
       "    </tr>\n",
       "    <tr>\n",
       "      <th>3</th>\n",
       "      <td>hearts of oak 3-2 cotonsport hearts of oak set...</td>\n",
       "      <td>redford s vision of sundance despite sporting ...</td>\n",
       "    </tr>\n",
       "    <tr>\n",
       "      <th>4</th>\n",
       "      <td>sir paul rocks super bowl crowds sir paul mcca...</td>\n",
       "      <td>mauresmo opens with victory in la amelie maure...</td>\n",
       "    </tr>\n",
       "  </tbody>\n",
       "</table>\n",
       "</div>"
      ],
      "text/plain": [
       "                                               text1  \\\n",
       "0  broadband challenges tv viewing the number of ...   \n",
       "1  rap boss arrested over drug find rap mogul mar...   \n",
       "2  player burn-out worries robinson england coach...   \n",
       "3  hearts of oak 3-2 cotonsport hearts of oak set...   \n",
       "4  sir paul rocks super bowl crowds sir paul mcca...   \n",
       "\n",
       "                                               text2  \n",
       "0  gardener wins double in glasgow britain s jaso...  \n",
       "1  amnesty chief laments war failure the lack of ...  \n",
       "2  hanks greeted at wintry premiere hollywood sta...  \n",
       "3  redford s vision of sundance despite sporting ...  \n",
       "4  mauresmo opens with victory in la amelie maure...  "
      ]
     },
     "execution_count": 4,
     "metadata": {},
     "output_type": "execute_result"
    }
   ],
   "source": [
    "df.head()"
   ]
  },
  {
   "cell_type": "code",
   "execution_count": 5,
   "metadata": {},
   "outputs": [
    {
     "data": {
      "text/plain": [
       "(3000, 2)"
      ]
     },
     "execution_count": 5,
     "metadata": {},
     "output_type": "execute_result"
    }
   ],
   "source": [
    "df.shape"
   ]
  },
  {
   "cell_type": "code",
   "execution_count": 6,
   "metadata": {},
   "outputs": [
    {
     "name": "stdout",
     "output_type": "stream",
     "text": [
      "text1    0\n",
      "text2    0\n",
      "dtype: int64\n"
     ]
    }
   ],
   "source": [
    "## Checking whether there is any null values in the data\n",
    "print(df.isnull().sum())"
   ]
  },
  {
   "cell_type": "markdown",
   "metadata": {},
   "source": [
    "## now we are going generate sentence embeddings"
   ]
  },
  {
   "cell_type": "code",
   "execution_count": 7,
   "metadata": {},
   "outputs": [],
   "source": [
    "from sentence_transformers import SentenceTransformer,util\n",
    "model = SentenceTransformer('paraphrase-MiniLM-L6-v2')\n"
   ]
  },
  {
   "cell_type": "code",
   "execution_count": 8,
   "metadata": {},
   "outputs": [
    {
     "name": "stdout",
     "output_type": "stream",
     "text": [
      "[['broadband challenges tv viewing the number of europeans with broadband has exploded over the past 12 months  with the web eating into tv viewing habits  research suggests.  just over 54 million people are hooked up to the net via broadband  up from 34 million a year ago  according to market analysts nielsen/netratings. the total number of people online in europe has broken the 100 million mark. the popularity of the net has meant that many are turning away from tv  say analysts jupiter research. it found that a quarter of web users said they spent less time watching tv in favour of the net  the report by nielsen/netratings found that the number of people with fast internet access had risen by 60% over the past year.  the biggest jump was in italy  where it rose by 120%. britain was close behind  with broadband users almost doubling in a year. the growth has been fuelled by lower prices and a wider choice of always-on  fast-net subscription plans.  twelve months ago high speed internet users made up just over one third of the audience in europe; now they are more than 50% and we expect this number to keep growing   said gabrielle prior  nielsen/netratings analyst.  as the number of high-speed surfers grows  websites will need to adapt  update and enhance their content to retain their visitors and encourage new ones.  the total number of europeans online rose by 12% to 100 million over the past year  the report showed  with the biggest rise in france  italy  britain and germany.  the ability to browse web pages at high speed  download files such as music or films and play online games is changing what people do in their spare time.  a study by analysts jupiter research suggested that broadband was challenging television viewing habits. in homes with broadband  40% said they were spending less time watching tv. the threat to tv was greatest in countries where broadband was on the up  in particular the uk  france and spain  said the report. it said tv companies faced a major long-term threat over the next five years  with broadband predicted to grow from 19% to 37% of households by 2009.  year-on-year we are continuing to see a seismic shift in where  when and how europe s population consume media for information and entertainment and this has big implications for tv  newspaper and radio   said jupiter research analyst olivier beauvillian.'\n",
      "  'gardener wins double in glasgow britain s jason gardener enjoyed a double 60m success in glasgow in his first competitive outing since he won 100m relay gold at the athens olympics.  gardener cruised home ahead of scot nick smith to win the invitational race at the norwich union international. he then recovered from a poor start in the second race to beat swede daniel persson and italy s luca verdecchia. his times of 6.61 and 6.62 seconds were well short of american maurice greene s 60m world record of 6.39secs from 1998.  it s a very hard record to break  but i believe i ve trained very well   said the world indoor champion  who hopes to get closer to the mark this season.  it was important to come out and make sure i got maximum points. my last race was the olympic final and there was a lot of expectation.  this was just what i needed to sharpen up and get some race fitness. i m very excited about the next couple of months.   double olympic champion  marked her first appearance on home soil since winning 1500m and 800m gold in athens with a victory. there was a third success for britain when  edged out russia s olga fedorova and sweden s jenny kallur to win the women s 60m race in 7.23secs. maduaka was unable to repeat the feat in the 200m  finishing down in fourth as  took the win for russia. and the 31-year-old also missed out on a podium place in the 4x200m relay as the british quartet came in fourth  with russia setting a new world indoor record. there was a setback for jade johnson as she suffered a recurrence of her back injury in the long jump. russia won the meeting with a final total of 63 points  with britain second on 48 and france one point behind in third.  led the way for russia by producing a major shock in the high jump as he beat olympic champion stefan holm into second place to end the swede s 22-event unbeaten record.  won the triple jump with a leap of 16.87m  with britain s tosin oke fourth in 15.80m.  won the men s pole vault competition with a clearance of 5.65m  with britain s nick buckfield 51cm adrift of his personal best in third. and  won the women s 800m  with britain s jenny meadows third. there was yet another russian victory in the women s 400m as  finished well clear of britain s catherine murphy. chris lambert had to settle for fourth after fading in the closing stages of the men s 200m race as sweden s  held off leslie djhone of france. france s  won the men s 400m  with brett rund fourth for britain.  took victory for sweden in the women s 60m hurdles ahead of russia s irina shevchenko and britain s sarah claxton  who set a new personal best. italy grabbed their first victory in the men s 1500m as  kicked over the last 200 metres to hold off britain s james thie and france s alexis abraham. a botched changeover in the 4x200m relay cost britain s men the chance to add further points as france claimed victory.']\n",
      " ['rap boss arrested over drug find rap mogul marion  suge  knight has been arrested for violating his parole after he was allegedly found with marijuana.  he was arrested in barstow  california  on saturday following an alleged traffic offence. he is expected to be transferred to a state prison while a decision is made on whether he should be released. mr knight  founder of death row records  served a 10-month jail term in 2004 for punching a man while on parole for an assault conviction. police said mr knight was stopped on saturday after performing an illegal u-turn and a search of his car allegedly found marijuana.  he is also accused of not having insurance. a 18-year-old woman in the car was arrested for providing false information and having a fake id card. she was later released. it was his second alleged violation  having previously served half of a nine-year sentence for breaking the terms of his parole. mr knight  39  was jailed in october 1996 following his involvement in a fight with a rival gang just hours before rapper tupac shakur was killed in a las vegas drive-by shooting. he was driving shakur s car at the time and was shot in the head. at the time he was on probation for assaulting two musicians. mr knight  a former bodyguard  set up death row records in the early 1990s with shakur and dr dre among his protegees. but the label has always been dogged by allegations it supports gang culture and fuels the east and west coast rap rivalry.'\n",
      "  'amnesty chief laments war failure the lack of public outrage about the war on terror is a powerful indictment of the failure of human rights groups  amnesty international s chief has said.  in a lecture at the london school of economics  irene khan said human rights had been flouted in the name of security since 11 september  2001. she said the human rights movement had to use simpler language both to prevent scepticism and spread a moral message. and it had to fight poverty  not just focus on political rights for elites.  ms khan highlighted detentions without trial  including those at the us camp at guantanamo bay in cuba  and the abuse of prisoners as evidence of increasing human rights problems.  what s a new challenge is the way in which this age-old debate on security and human rights has been translated into the language of war   she said.  by using the language of war  human rights are being sidelined because we know human rights do not apply in times of war.  ms khan said such breaches were infectious and were now seen in almost very major country in the world.  the human rights movement faces a crisis of faith in the value of human rights   she said. that was accompanied by a crisis of governance  where the united nations system did not seem able to hold countries to account.  the amnesty secretary-general said a growing gap between the perceived influence of human rights group and what they could actually achieve was fuelling scepticism.  public passivity on the war against terror is the single most powerful indictment on the failures of human rights groups   she said. ms khan said the movement had failed to mobilise public outrage about what was happening to the human rights system. there needed to be a drive to use simpler language  talking about the basic morality of the issues rather than the complexity of legal processes. such efforts could make the issues more relevant to people across the world  she said.  the human rights groups also had to recognise there were new groups which had to be tackled in new ways as power dripped away from state governments. al-qaeda  for example  was not going to be impressed by a traditional amnesty letter writing campaign. more also needed to be done to develop a human rights framework for international business corporations. amnesty international members voted in 2001 to extend the organisation s work from political and civil rights to cover social and economic rights too. ms khan said the human rights movement would make itself irrelevant if it turned away from the suffering caused by economic strife.  we would be an elitist bunch working for the elites  for those who cannot read the newspaper of their choice rather than those who cannot read   she said. despite her concerns  ms khan dubbed herself a  hope-monger   saying she was confident the passions of the human rights movement could overcome the new challenges.']\n",
      " ['player burn-out worries robinson england coach andy robinson says english rugby has to act now to prevent injury destroying players  careers.  he will be without a host of big names for the six nations as the intensity of professional rugby union hits players.  injuries are part of the sport but we have to have a look at the amount of injuries that occur in the english season   robinson told bbc sport.  i think players are probably going to have three or four years taken off their careers.  robinson will be missing an entire midfield for the six nations with the likes of jonny wilkinson  mike tindall and will greenwood injured.  rugby union has become far more physically demanding since the game went professional nearly 10 years ago. as a result three of the major stakeholders in english rugby have launched an  injury audit  to find out how players are coping. the audit is jointly funded by the professional rugby players  association  the rugby football union and premier rugby. as far as robinson is concerned its findings must not be ignored.  i think there s an injury audit coming out in march that s got some great information in there that i think everybody in the english game has got to look at   he said.  if we don t the situation is going to get worse and not better  so i think rugby as a whole has got to look at this.'\n",
      "  'hanks greeted at wintry premiere hollywood star tom hanks was in london s leicester square for the uk premiere of polar express.  the west end landmark was turned into a festive landscape complete with snow and carol singers to celebrate the arrival of the animated film.  this is leicester square like you ve never seen it before   said hanks  who plays five roles in the movie. polar express is based on a children s book which tells the story of a young boy s journey to meet santa claus. the 48-year-old actor crossed a three-metre high bridge built in the square  which he said was  almost impossible to get across . hundreds of fans greeted the star  all wearing santa hats  and mince pies were on offer. hanks said that the new film has an  elegant message .  christmas is a special time of the year and you get out of it what you put into it   added the two-time academy award winner.   i believe in the spirit of christmas and i think that s embodied in santa claus   he said. polar express uses technology similar to that used in lord of the rings to bring gollum to life. the  performance capture  technique enables hanks to play a number of roles  including the eight-year-old boy who is at the centre of the story  and father christmas. it is directed by robert zemeckis  who has previously worked with hanks on forrest gump and castaway.']\n",
      " ...\n",
      " ['pountney handed ban and fine northampton coach budge pountney has been fined £2 000 and banned from match-day coaching for six weeks for calling a referee  a disgrace .  pountney was found guilty of bringing the game into disrepute at a rugby football union disciplinary hearing in london on thursday night. pountney criticised referee steve lander s performance in northampton s defeat by saracens on 5 february. the last two weeks of the six-week ban are suspended. pountney pleaded guilty to the offence before a panel consisting of chairman robert horner  nigel gillingham and jeff probyn. the ban means former scotland international pountney cannot enter the playing enclosure  technical areas or go near the touchline  tunnel or players and officials  areas on the day of a game.'\n",
      "  'india and iran in gas export deal india has signed a $40bn (£21bn) deal to import millions of tonnes of liquefied natural gas from iran.  firms led by the oil & natural gas corporation (ongc) will also assist in the development of iranian oil fields. ministers  eager to gain access to energy supplies to meet the demands of a booming economy  secured a similar deal to one between iran and china. the announcement comes as ongc said it was in talks to buy former assets of troubled russian oil firm yukos. the agreements with iran were sealed after talks in new delhi between middle east producers and asia s biggest energy consumers - china  india  japan and south korea.  iran - opec s second-biggest oil producer and one of the world s top gas producers - has been pursuing a series of deals  rewarding lng buyers with participation in development of its oil fields. under the agreement  it will supply india with 7.5 million tonnes of lpg annually over a 25 year period from 2009. ongc and the national iranian oil company (nioc) reached a preliminary deal for indian firms to take part in the development of the yadavaran and jufeyr oilfields  both countries said in a statement. india s oil production has stagnated over recent years  and it is having to look abroad to secure future supplies. india imports about 70% of its total oil consumption. consumption has jumped to 2.4 million barrels per day  compared with 474 000 bpd in 1973.']\n",
      " ['belle named  best scottish band  belle & sebastian have been named the best scottish band of all time after a three month-long public poll.  the group beat travis and idlewild into second and third place respectively. franz ferdinand  who recently picked up five brit award nominations  ended up in 15th place  while the eurythmics wound up at a lowly 38. other scottish acts  such as the mull historical society who also featured in the top 50  performed at a party in glasgow where the result was announced. scottish-based band snow patrol  who finished 14th in the vote and have been nominated for a pair of brit awards  were among the performers who covered well-known scottish pop songs at the party on wednesday night.  indie stalwarts belle & sebastian have enjoyed a chart career stretching back to 1997. they were the surprise winners of the brit award for best breakthrough act two years later. scottish bands from earlier musical eras also made it into the final list  including 1970s tartan boy band the bay city rollers and goth favourites the jesus and mary chain.  scottish magazine the list recently compiled a list of the top 50 scottish bands of all time  but left the final decision to the public. the magazine s music editor mark robertson said:  the idea behind the project was simple - to rediscover the very best of scottish music  from the finest musical talent spanning from the age of 70s rock through to 80s pop  right up to today s international stars.   everyone has strong opinions about this and we wanted to open it up to the public to decide   he added. bbc radio scotland presenter vic galloway  who has been involved in the project  said it had been  great fun  to look back at scotland s musical heritage and take note of up-and-coming scottish acts.'\n",
      "  'mido makes third apology ahmed  mido  hossam has made another apology to the egyptian people in an attempt to rejoin the national team.  the 21-year-old told a news conference in cairo on sunday that he is sorry for the problems that have led to his exclusion from the pharaohs since july last year. mido said:  there isn t much i have to say today  all there is to say is that i came specially from england to egypt to rejoin the national team and to apologise for all my mistakes.  mido was axed by former coach marco tardelli after failing to answer a national call-up  claiming he had a groin injury. but he then played in a friendly for his club as roma within 24 hours of a world cup qualifying match at home to cameroon last september. mido added:  it s not my right to give orders and say when i want to play ... at the same time i will always make sure that i put the national s team s matches as my top priority.  i feel that the national players are playing with a new spirit as i saw them play against belgium (egypt won 4-0 on wednesday) and i simply want to add to their success.  i do confess that i was rude to the egyptian press at times but now i have gained more experience and know that i will never go anywhere without the press s support.  many of the international stars like david beckham and (zinedine) zidane had the press opposing them.  so i m now used to the fact that the press can be against me at times and i don t have to overreact when this happens. meanwhile  egypt fa spokesman methat shalaby welcomed the apology and said no one had exerted pressure on mido to apologise.  mido s apology today does not negatively affect mido in anyway  on the contrary it makes him a bigger star and a role model for all football players   shalaby said. shalaby earlier said that after an apology mido would be available for the national side if coach hassan shehata chose him. mido joined tottenham in an 18-month loan deal near the end of the january transfer window  scoring twice on his debut against portsmouth.']\n",
      " ['criminal probe on citigroup deals traders at us banking giant citigroup are facing a criminal investigation in germany over a controversial bond deal.  the deal saw the sale of 11bn euros ($14.4bn; £7.6bn) of government bonds in a few minutes on 2 august  with 4bn euros-worth then bought back later. the move was widely criticised at the time  and now the german regulator has said it has found evidence of possible market manipulation. citigroup said it would continue to co-operate fully with the authorities.  we are disappointed that the bafin has referred to the prosecutor the question of whether action should be brought against individuals involved   citigroup said. if the traders are found guilty  they could face a five-year jail term or a fine  reuters reported bafin as saying. however  under german criminal law  prosecutors cannot pursue citigroup itself.  germany s financial watchdog bafin told bbc news it had now transferred the investigation to the public prosecutor.  i can confirm that bafin has passed through the case to the public prosecutor   a bafin spokeswoman said.  it is now a criminal investigation.   we found clues of possible market manipulation   the spokeswoman said  which included signs of linked bond trading ahead of the main trades on 2 august.  germany s securities trading act says that if bafin finds such clues  it has to put the case in the hands of the prosecutor.  regulatory investigations are still going on in france  the uk and elsewhere. some citigroup operations elsewhere in the world came under regulatory criticism in 2004. its private banking operation in japan was closed down by regulators in tokyo after an  aggressive sales culture  led the bank to flout anti-money laundering rules.'\n",
      "  'former ni minister scott dies former northern ireland minister sir nicholas scott has died at a london hospice  his family has announced.  the former conservative mp for kensington and chelsea  died after a long illness diagnosed as alzheimer s. the 71-year-old served in northern ireland from 1981 to 1987 during the premiership of margaret thatcher. as a northern ireland minister he dealt with education and later security where he rode out the mass ira escape from the maze in 1983.  in education  he encountered criticism over school closures and the future of the catholic training colleges. he also merged the new university of ulster and the ulster polytechnic to create the university of ulster. sir nicholas was a strong defender of the anglo-irish agreement and was held in esteem in dublin government and sdlp circles. but he experienced hostility from unionists some of whom dubbed him  minister of discord . after leaving northern ireland in a reshuffle  he became a uk disability minister. sir nicholas was replaced as the member for kensington and chelsea by the flamboyant alan clark  after being deselected by his constituency in december 1996. his deselection followed a series of scandals including being found slumped in the street by police during the tory party conference in bournemouth and taken back to his hotel.  sir nicholas claimed strong painkillers he was taking for a back problem had reacted badly with a small amount of alcohol. after his sacking  he bitterly said that despite the support of cabinet ministers and tory backbenchers  the eurosceptics in his constituency were  absolutely determined to get rid of me . his colourful career also included a very public disagreement with daughter victoria over civil rights for the disabled. sir nicholas admitted he misled mps when he denied his department had been involved in wrecking tactics designed to kill the disability bill in 1994. victoria  a lobbyist for disabled rights  denounced her father s actions and heaped insult on injury when she joined the calls for him to resign. he joined the backbenches two months later.']]\n"
     ]
    }
   ],
   "source": [
    "sentence_pairs = df[[\"text1\", \"text2\"]].values\n",
    "print(sentence_pairs)"
   ]
  },
  {
   "cell_type": "code",
   "execution_count": 9,
   "metadata": {},
   "outputs": [],
   "source": [
    "embeddings1, embeddings2 = [], []\n",
    "for i in range(len(df)):\n",
    "  new_embedding1 = model.encode(df['text1'][i])\n",
    "  embeddings1.append(new_embedding1)\n",
    "  new_embedding2 = model.encode(df['text2'][i])\n",
    "  embeddings2.append(new_embedding2)\n"
   ]
  },
  {
   "cell_type": "code",
   "execution_count": 10,
   "metadata": {},
   "outputs": [
    {
     "name": "stderr",
     "output_type": "stream",
     "text": [
      "c:\\Users\\shitk2\\Anaconda3\\envs\\my_env\\lib\\site-packages\\sentence_transformers\\util.py:36: UserWarning: Creating a tensor from a list of numpy.ndarrays is extremely slow. Please consider converting the list to a single numpy.ndarray with numpy.array() before converting to a tensor. (Triggered internally at C:\\actions-runner\\_work\\pytorch\\pytorch\\builder\\windows\\pytorch\\torch\\csrc\\utils\\tensor_new.cpp:233.)\n",
      "  a = torch.tensor(a)\n"
     ]
    },
    {
     "data": {
      "text/plain": [
       "tensor([[ 0.0732,  0.0711,  0.1144,  ..., -0.0036, -0.0059,  0.1241],\n",
       "        [ 0.1831,  0.1815,  0.0932,  ..., -0.0365,  0.1235,  0.2207],\n",
       "        [ 0.0915,  0.1337,  0.2231,  ..., -0.0416,  0.3344,  0.2448],\n",
       "        ...,\n",
       "        [ 0.1492,  0.2136,  0.1041,  ...,  0.0743,  0.3868,  0.1726],\n",
       "        [ 0.1849, -0.0017,  0.1007,  ..., -0.0299,  0.0694,  0.2415],\n",
       "        [-0.0906,  0.0777,  0.0799,  ...,  0.1665,  0.0606, -0.0392]])"
      ]
     },
     "execution_count": 10,
     "metadata": {},
     "output_type": "execute_result"
    }
   ],
   "source": [
    "cos_sim=util.cos_sim(embeddings1,embeddings2)\n",
    "cos_sim"
   ]
  },
  {
   "cell_type": "code",
   "execution_count": 11,
   "metadata": {},
   "outputs": [],
   "source": [
    "cosine_similarities = cosine_similarity(embeddings1, embeddings2)"
   ]
  },
  {
   "cell_type": "code",
   "execution_count": 12,
   "metadata": {},
   "outputs": [],
   "source": [
    "similarity_scores = cosine_similarities.reshape(-1)"
   ]
  },
  {
   "cell_type": "code",
   "execution_count": 13,
   "metadata": {},
   "outputs": [
    {
     "data": {
      "text/plain": [
       "array([ 0.07324862,  0.0710762 ,  0.11435704, ...,  0.16651015,\n",
       "        0.06063753, -0.03916519], dtype=float32)"
      ]
     },
     "execution_count": 13,
     "metadata": {},
     "output_type": "execute_result"
    }
   ],
   "source": [
    "similarity_scores"
   ]
  },
  {
   "cell_type": "markdown",
   "metadata": {},
   "source": [
    "## testing with the test data"
   ]
  },
  {
   "cell_type": "code",
   "execution_count": 23,
   "metadata": {},
   "outputs": [],
   "source": [
    "test_embeddings1=model.encode(df['text1'][2076])\n",
    "test_embeddings2=model.encode(df['text2'][2056])"
   ]
  },
  {
   "cell_type": "code",
   "execution_count": 24,
   "metadata": {},
   "outputs": [],
   "source": [
    "cosine_similarities = util.cos_sim(test_embeddings1,test_embeddings2)"
   ]
  },
  {
   "cell_type": "code",
   "execution_count": 25,
   "metadata": {},
   "outputs": [
    {
     "data": {
      "text/plain": [
       "tensor([0.1856])"
      ]
     },
     "execution_count": 25,
     "metadata": {},
     "output_type": "execute_result"
    }
   ],
   "source": [
    "cosine_similarities[0]"
   ]
  },
  {
   "cell_type": "code",
   "execution_count": null,
   "metadata": {},
   "outputs": [],
   "source": []
  }
 ],
 "metadata": {
  "kernelspec": {
   "display_name": "Python 3",
   "language": "python",
   "name": "python3"
  },
  "language_info": {
   "codemirror_mode": {
    "name": "ipython",
    "version": 3
   },
   "file_extension": ".py",
   "mimetype": "text/x-python",
   "name": "python",
   "nbconvert_exporter": "python",
   "pygments_lexer": "ipython3",
   "version": "3.9.12"
  },
  "orig_nbformat": 4
 },
 "nbformat": 4,
 "nbformat_minor": 2
}
